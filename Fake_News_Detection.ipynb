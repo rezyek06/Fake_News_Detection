{
  "cells": [
    {
      "cell_type": "markdown",
      "metadata": {
        "id": "view-in-github",
        "colab_type": "text"
      },
      "source": [
        "<a href=\"https://colab.research.google.com/github/rezyek06/Fake_News_Detection/blob/main/Fake_News_Detection.ipynb\" target=\"_parent\"><img src=\"https://colab.research.google.com/assets/colab-badge.svg\" alt=\"Open In Colab\"/></a>"
      ]
    },
    {
      "cell_type": "code",
      "execution_count": null,
      "metadata": {
        "id": "z2V4swEc26Va"
      },
      "outputs": [],
      "source": [
        "from matplotlib import pyplot as plt\n",
        "import pandas as pd\n",
        "from sklearn.feature_extraction.text import TfidfVectorizer\n",
        "from sklearn.model_selection import train_test_split, GridSearchCV\n",
        "from sklearn.linear_model import LogisticRegression\n",
        "from sklearn.metrics import accuracy_score"
      ]
    },
    {
      "cell_type": "code",
      "source": [
        "fake_df = pd.read_csv(\"https://raw.githubusercontent.com/ChitranjanUpadhayay/ML_Projects/main/Datasets/Fake%20News/Fake.csv\")\n",
        "\n",
        "true_df = pd.read_csv(\"https://raw.githubusercontent.com/ChitranjanUpadhayay/ML_Projects/main/Datasets/Fake%20News/True.csv\")\n",
        "\n",
        "fake_df[\"label\"] = 0\n",
        "true_df[\"label\"] = 1\n",
        "\n",
        "true_df = true_df.drop([\"title\", \"subject\", 'date'], axis=1)\n",
        "fake_df = fake_df.drop([\"title\", \"subject\", 'date'], axis=1)\n",
        "\n",
        "df = pd.concat([true_df, fake_df], axis=0)\n",
        "\n",
        "df = df.sample(frac=1)\n",
        "\n",
        "df.head()"
      ],
      "metadata": {
        "colab": {
          "base_uri": "https://localhost:8080/",
          "height": 206
        },
        "id": "v0LHQffoJls2",
        "outputId": "859f8b23-588b-4106-db11-45d2cbf43af2"
      },
      "execution_count": null,
      "outputs": [
        {
          "output_type": "execute_result",
          "data": {
            "text/plain": [
              "                                                    text  label\n",
              "16978  CARACAS (Reuters) - Key members of Venezuela s...      1\n",
              "763    A Texas Republican congressman blamed female R...      0\n",
              "21299  We ll wait for an apology from CAIR and the le...      0\n",
              "23348  Tune in to the Alternate Current Radio Network...      0\n",
              "12250  PARIS (Reuters) - Four adolescents were killed...      1"
            ],
            "text/html": [
              "\n",
              "  <div id=\"df-f4d4c2a6-c66c-40e8-aa43-82624a28982e\" class=\"colab-df-container\">\n",
              "    <div>\n",
              "<style scoped>\n",
              "    .dataframe tbody tr th:only-of-type {\n",
              "        vertical-align: middle;\n",
              "    }\n",
              "\n",
              "    .dataframe tbody tr th {\n",
              "        vertical-align: top;\n",
              "    }\n",
              "\n",
              "    .dataframe thead th {\n",
              "        text-align: right;\n",
              "    }\n",
              "</style>\n",
              "<table border=\"1\" class=\"dataframe\">\n",
              "  <thead>\n",
              "    <tr style=\"text-align: right;\">\n",
              "      <th></th>\n",
              "      <th>text</th>\n",
              "      <th>label</th>\n",
              "    </tr>\n",
              "  </thead>\n",
              "  <tbody>\n",
              "    <tr>\n",
              "      <th>16978</th>\n",
              "      <td>CARACAS (Reuters) - Key members of Venezuela s...</td>\n",
              "      <td>1</td>\n",
              "    </tr>\n",
              "    <tr>\n",
              "      <th>763</th>\n",
              "      <td>A Texas Republican congressman blamed female R...</td>\n",
              "      <td>0</td>\n",
              "    </tr>\n",
              "    <tr>\n",
              "      <th>21299</th>\n",
              "      <td>We ll wait for an apology from CAIR and the le...</td>\n",
              "      <td>0</td>\n",
              "    </tr>\n",
              "    <tr>\n",
              "      <th>23348</th>\n",
              "      <td>Tune in to the Alternate Current Radio Network...</td>\n",
              "      <td>0</td>\n",
              "    </tr>\n",
              "    <tr>\n",
              "      <th>12250</th>\n",
              "      <td>PARIS (Reuters) - Four adolescents were killed...</td>\n",
              "      <td>1</td>\n",
              "    </tr>\n",
              "  </tbody>\n",
              "</table>\n",
              "</div>\n",
              "    <div class=\"colab-df-buttons\">\n",
              "\n",
              "  <div class=\"colab-df-container\">\n",
              "    <button class=\"colab-df-convert\" onclick=\"convertToInteractive('df-f4d4c2a6-c66c-40e8-aa43-82624a28982e')\"\n",
              "            title=\"Convert this dataframe to an interactive table.\"\n",
              "            style=\"display:none;\">\n",
              "\n",
              "  <svg xmlns=\"http://www.w3.org/2000/svg\" height=\"24px\" viewBox=\"0 -960 960 960\">\n",
              "    <path d=\"M120-120v-720h720v720H120Zm60-500h600v-160H180v160Zm220 220h160v-160H400v160Zm0 220h160v-160H400v160ZM180-400h160v-160H180v160Zm440 0h160v-160H620v160ZM180-180h160v-160H180v160Zm440 0h160v-160H620v160Z\"/>\n",
              "  </svg>\n",
              "    </button>\n",
              "\n",
              "  <style>\n",
              "    .colab-df-container {\n",
              "      display:flex;\n",
              "      gap: 12px;\n",
              "    }\n",
              "\n",
              "    .colab-df-convert {\n",
              "      background-color: #E8F0FE;\n",
              "      border: none;\n",
              "      border-radius: 50%;\n",
              "      cursor: pointer;\n",
              "      display: none;\n",
              "      fill: #1967D2;\n",
              "      height: 32px;\n",
              "      padding: 0 0 0 0;\n",
              "      width: 32px;\n",
              "    }\n",
              "\n",
              "    .colab-df-convert:hover {\n",
              "      background-color: #E2EBFA;\n",
              "      box-shadow: 0px 1px 2px rgba(60, 64, 67, 0.3), 0px 1px 3px 1px rgba(60, 64, 67, 0.15);\n",
              "      fill: #174EA6;\n",
              "    }\n",
              "\n",
              "    .colab-df-buttons div {\n",
              "      margin-bottom: 4px;\n",
              "    }\n",
              "\n",
              "    [theme=dark] .colab-df-convert {\n",
              "      background-color: #3B4455;\n",
              "      fill: #D2E3FC;\n",
              "    }\n",
              "\n",
              "    [theme=dark] .colab-df-convert:hover {\n",
              "      background-color: #434B5C;\n",
              "      box-shadow: 0px 1px 3px 1px rgba(0, 0, 0, 0.15);\n",
              "      filter: drop-shadow(0px 1px 2px rgba(0, 0, 0, 0.3));\n",
              "      fill: #FFFFFF;\n",
              "    }\n",
              "  </style>\n",
              "\n",
              "    <script>\n",
              "      const buttonEl =\n",
              "        document.querySelector('#df-f4d4c2a6-c66c-40e8-aa43-82624a28982e button.colab-df-convert');\n",
              "      buttonEl.style.display =\n",
              "        google.colab.kernel.accessAllowed ? 'block' : 'none';\n",
              "\n",
              "      async function convertToInteractive(key) {\n",
              "        const element = document.querySelector('#df-f4d4c2a6-c66c-40e8-aa43-82624a28982e');\n",
              "        const dataTable =\n",
              "          await google.colab.kernel.invokeFunction('convertToInteractive',\n",
              "                                                    [key], {});\n",
              "        if (!dataTable) return;\n",
              "\n",
              "        const docLinkHtml = 'Like what you see? Visit the ' +\n",
              "          '<a target=\"_blank\" href=https://colab.research.google.com/notebooks/data_table.ipynb>data table notebook</a>'\n",
              "          + ' to learn more about interactive tables.';\n",
              "        element.innerHTML = '';\n",
              "        dataTable['output_type'] = 'display_data';\n",
              "        await google.colab.output.renderOutput(dataTable, element);\n",
              "        const docLink = document.createElement('div');\n",
              "        docLink.innerHTML = docLinkHtml;\n",
              "        element.appendChild(docLink);\n",
              "      }\n",
              "    </script>\n",
              "  </div>\n",
              "\n",
              "\n",
              "<div id=\"df-96452edd-aa59-497e-98e4-4a0677f9e9f3\">\n",
              "  <button class=\"colab-df-quickchart\" onclick=\"quickchart('df-96452edd-aa59-497e-98e4-4a0677f9e9f3')\"\n",
              "            title=\"Suggest charts\"\n",
              "            style=\"display:none;\">\n",
              "\n",
              "<svg xmlns=\"http://www.w3.org/2000/svg\" height=\"24px\"viewBox=\"0 0 24 24\"\n",
              "     width=\"24px\">\n",
              "    <g>\n",
              "        <path d=\"M19 3H5c-1.1 0-2 .9-2 2v14c0 1.1.9 2 2 2h14c1.1 0 2-.9 2-2V5c0-1.1-.9-2-2-2zM9 17H7v-7h2v7zm4 0h-2V7h2v10zm4 0h-2v-4h2v4z\"/>\n",
              "    </g>\n",
              "</svg>\n",
              "  </button>\n",
              "\n",
              "<style>\n",
              "  .colab-df-quickchart {\n",
              "      --bg-color: #E8F0FE;\n",
              "      --fill-color: #1967D2;\n",
              "      --hover-bg-color: #E2EBFA;\n",
              "      --hover-fill-color: #174EA6;\n",
              "      --disabled-fill-color: #AAA;\n",
              "      --disabled-bg-color: #DDD;\n",
              "  }\n",
              "\n",
              "  [theme=dark] .colab-df-quickchart {\n",
              "      --bg-color: #3B4455;\n",
              "      --fill-color: #D2E3FC;\n",
              "      --hover-bg-color: #434B5C;\n",
              "      --hover-fill-color: #FFFFFF;\n",
              "      --disabled-bg-color: #3B4455;\n",
              "      --disabled-fill-color: #666;\n",
              "  }\n",
              "\n",
              "  .colab-df-quickchart {\n",
              "    background-color: var(--bg-color);\n",
              "    border: none;\n",
              "    border-radius: 50%;\n",
              "    cursor: pointer;\n",
              "    display: none;\n",
              "    fill: var(--fill-color);\n",
              "    height: 32px;\n",
              "    padding: 0;\n",
              "    width: 32px;\n",
              "  }\n",
              "\n",
              "  .colab-df-quickchart:hover {\n",
              "    background-color: var(--hover-bg-color);\n",
              "    box-shadow: 0 1px 2px rgba(60, 64, 67, 0.3), 0 1px 3px 1px rgba(60, 64, 67, 0.15);\n",
              "    fill: var(--button-hover-fill-color);\n",
              "  }\n",
              "\n",
              "  .colab-df-quickchart-complete:disabled,\n",
              "  .colab-df-quickchart-complete:disabled:hover {\n",
              "    background-color: var(--disabled-bg-color);\n",
              "    fill: var(--disabled-fill-color);\n",
              "    box-shadow: none;\n",
              "  }\n",
              "\n",
              "  .colab-df-spinner {\n",
              "    border: 2px solid var(--fill-color);\n",
              "    border-color: transparent;\n",
              "    border-bottom-color: var(--fill-color);\n",
              "    animation:\n",
              "      spin 1s steps(1) infinite;\n",
              "  }\n",
              "\n",
              "  @keyframes spin {\n",
              "    0% {\n",
              "      border-color: transparent;\n",
              "      border-bottom-color: var(--fill-color);\n",
              "      border-left-color: var(--fill-color);\n",
              "    }\n",
              "    20% {\n",
              "      border-color: transparent;\n",
              "      border-left-color: var(--fill-color);\n",
              "      border-top-color: var(--fill-color);\n",
              "    }\n",
              "    30% {\n",
              "      border-color: transparent;\n",
              "      border-left-color: var(--fill-color);\n",
              "      border-top-color: var(--fill-color);\n",
              "      border-right-color: var(--fill-color);\n",
              "    }\n",
              "    40% {\n",
              "      border-color: transparent;\n",
              "      border-right-color: var(--fill-color);\n",
              "      border-top-color: var(--fill-color);\n",
              "    }\n",
              "    60% {\n",
              "      border-color: transparent;\n",
              "      border-right-color: var(--fill-color);\n",
              "    }\n",
              "    80% {\n",
              "      border-color: transparent;\n",
              "      border-right-color: var(--fill-color);\n",
              "      border-bottom-color: var(--fill-color);\n",
              "    }\n",
              "    90% {\n",
              "      border-color: transparent;\n",
              "      border-bottom-color: var(--fill-color);\n",
              "    }\n",
              "  }\n",
              "</style>\n",
              "\n",
              "  <script>\n",
              "    async function quickchart(key) {\n",
              "      const quickchartButtonEl =\n",
              "        document.querySelector('#' + key + ' button');\n",
              "      quickchartButtonEl.disabled = true;  // To prevent multiple clicks.\n",
              "      quickchartButtonEl.classList.add('colab-df-spinner');\n",
              "      try {\n",
              "        const charts = await google.colab.kernel.invokeFunction(\n",
              "            'suggestCharts', [key], {});\n",
              "      } catch (error) {\n",
              "        console.error('Error during call to suggestCharts:', error);\n",
              "      }\n",
              "      quickchartButtonEl.classList.remove('colab-df-spinner');\n",
              "      quickchartButtonEl.classList.add('colab-df-quickchart-complete');\n",
              "    }\n",
              "    (() => {\n",
              "      let quickchartButtonEl =\n",
              "        document.querySelector('#df-96452edd-aa59-497e-98e4-4a0677f9e9f3 button');\n",
              "      quickchartButtonEl.style.display =\n",
              "        google.colab.kernel.accessAllowed ? 'block' : 'none';\n",
              "    })();\n",
              "  </script>\n",
              "</div>\n",
              "    </div>\n",
              "  </div>\n"
            ],
            "application/vnd.google.colaboratory.intrinsic+json": {
              "type": "dataframe",
              "variable_name": "df",
              "summary": "{\n  \"name\": \"df\",\n  \"rows\": 44898,\n  \"fields\": [\n    {\n      \"column\": \"text\",\n      \"properties\": {\n        \"dtype\": \"string\",\n        \"num_unique_values\": 38646,\n        \"samples\": [\n          \"WASHINGTON (Reuters) - U.S. President Barack Obama proposed a $4.1 trillion spending plan for fiscal year 2017 on Tuesday in a final White House budget that met immediate Republican resistance for its cost and reliance on tax hikes to fund domestic priorities. Obama, a Democrat who leaves office next January, sought to outline his fiscal and political vision for the country with proposed investments in infrastructure, cyber security, education, and job growth. It also includes more than $11 billion for the Departments of Defense and State to fight Islamic State militants and stabilize Syria - one measure that could draw bipartisan support. But the plan is primarily a political document and is  unlikely to be embraced by the Republican-controlled Congress. Paul Ryan, the Republican speaker of the House of Representatives, called it a \\u201cmanual for growing the federal government at the expense of hardworking Americans.\\u201d The budget envisions a deficit of $503 billion in fiscal 2017 after a $616 billion budget gap in the current fiscal year ending on Sept. 30. It seeks to cut deficits by $2.9 trillion over 10 years  largely through smaller tax breaks for wealthy earners, new savings in Medicare healthcare, and assumptions that adoption of its policies on immigration reform and other areas would boost economic growth. \\u201cThe budget that we\\u2019re releasing today reflects my priorities and the priorities that I believe will help advance security and prosperity in America for many years to come,\\u201d Obama told reporters at the White House after a meeting with national security advisers on cyber security. \\u201cIt drives down the deficit. It includes smart savings on healthcare, immigration, tax reform,\\u201d he said. The budget seeks $19 billion for cyber security investments across the U.S. government. White House officials sought to play down the portrayal of the budget as dead on arrival in Congress. They noted bipartisan support for increases in funds for cancer research, opioid addiction programs and anti-poverty measures such as an expansion of the earned income tax credit (EITC), which helps low-income taxpayers. Other proposals were clear non-starters, though, including one to levy a $10.25 per barrel tax on imported and domestically produced oil to fund transportation infrastructure such as mass transit and high speed rail. \\u201cThe president\\u2019s final budget continues his focus on new spending proposals instead of confronting our country\\u2019s massive overspending and skyrocketing $19 trillion in debt,\\u201d said Senate Budget Committee Chairman Mike Enzi. The budget forecasts that deficits would average 2.5 percent of U.S. economic output over 10 years compared to about 4.0 percent in the Congressional Budget Office\\u2019s estimate, which is based on existing tax and spending laws.  It stayed within the bounds of an agreement reached between the White House and Congress last year that lifted mandatory \\u201csequestration\\u201d cuts on both defense and domestic spending. The budget proposes lifting the limits entirely from 2018. Obama and Ryan agree on some anti-poverty policies, but the general differences between the two men and their parties are vast, particularly in a presidential election year. Underscoring that divide and the fact that the budget is Obama\\u2019s last, Republican lawmakers took the unusual step of not inviting Obama\\u2019s budget director Shaun Donovan to brief about the proposal. White House spokesman Josh Earnest, who has likened the snub to Republican presidential front-runner Donald Trump\\u2019s decision to skip a debate with fellow candidates before the Iowa nominating contest, challenged Republicans to move on areas of compromise. \\u201cThe question really for Republicans at this point is, are they going to do anything? Are they going to use their majority in Congress to strengthen our cyber security, to fight opioid addiction, to cure cancer, or are they not?\\u201d he said. Congress can advance elements of the budget without endorsing the entire proposal. Republicans are especially resistant to the White House\\u2019s tax proposals. The budget takes aim at tax breaks for the wealthy that have been perennial targets, including the \\u201ccarried interest\\u201d loophole allowing investment fund managers to treat income as capital gains. It would also increase the top tax rate on capital gains and impose the \\u201cBuffett Rule\\u201d to ensure that millionaires pay a tax rate of no less than 30 percent of their income after charitable contributions.  In addition, it proposes a new fee on the liabilities of the largest banks that would raise $111 billion over 10 years and discourage excessive leverage in the financial system. The budget foresees $375 billion in new 10-year savings to federal healthcare programs, including several changes to the Medicare program for seniors. The budget calls for $152 billion in research and development, an increase of 4 percent over fiscal year 2016. \",\n          \"WASHINGTON (Reuters) - The top Republican at the U.S. Securities and Exchange Commission, known for his critical views on corporate penalties, expressed some support on Friday for imposing them in cases in which companies violate foreign bribery laws. \\u201cI am generally comfortable with assessing civil monetary penalties in Foreign Corrupt Practices Act cases,\\u201d Acting SEC Chairman Michael Piwowar said in remarks at the Practising Law Institute\\u2019s \\u201cSEC Speaks\\u201d conference. \\u201cAccording to academic literature, there is evidence that when such violations are revealed to the market, the stock price does not always fall, and may even increase,\\u201d he added. Piwowar\\u2019s comments come at a time when many on Wall Street have been questioning whether the Justice Department and the SEC will ease enforcement of the FCPA. Prior to being elected, President Donald Trump expressed concern about the FCPA, calling it a \\u201chorrible law\\u201d that should be changed. In addition, Trump\\u2019s pick to lead the SEC, attorney Jay Clayton, previously chaired a committee at the New York City Bar Association which drafted a paper that was somewhat critical of how the law was being enforced. Clayton is still awaiting U.S. Senate confirmation. Piwowar\\u2019s comments suggest there is likely to be some support among SEC commissioners to continue pursuing foreign bribery cases, given the impact FCPA disclosures have on share prices. Piwowar is well known for being critical about how the SEC decides when to assess corporate penalties generally, amid concerns that sizeable fines against public companies may in some cases unduly punish ordinary shareholders who are already victims of the alleged wrongdoing. He previously voted against imposing penalties against JPMorgan Chase & Co over its \\u201cLondon Whale\\u201d trades. The SEC did not win authority from Congress to seek penalties until 1990, and even then, the agency was slow to embrace the practice until after the major accounting scandals at companies like Enron and Worldcom. But in 2006, then-SEC Chair Chris Cox shifted gears amid concerns from some SEC officials about corporate penalties and issued guidance that spells out factors the commission should consider when determining whether to levy them. Piwowar said on Friday he closely follows those guidelines. \\u201cIt is entirely appropriate to discipline and punish corporate malefactors who violate our laws,\\u201d  he said.  But the SEC must \\u201cremember the innocent investors\\u201d who are also victims, he added. \",\n          \"The following statements\\u00a0were posted to the verified Twitter accounts of U.S. President Donald Trump, @realDonaldTrump and @POTUS.  The opinions expressed are his own.\\u00a0Reuters has not edited the statements or confirmed their accuracy.  @realDonaldTrump : - Amazon is doing great damage to tax paying retailers. Towns, cities and states throughout the U.S. are being hurt - many jobs being lost! [0612 EDT] - Congratulation to Roy Moore and Luther Strange for being the final two and heading into a September runoff in Alabama. Exciting race! [0618 EDT] - Congratulations John! [bit.ly/2w1eEzj] [0731 EDT] - Kim Jong Un of North Korea made a very wise and well reasoned decision. The alternative would have been both catastrophic and unacceptable![0739 EDT] - MAKE AMERICA GREAT AGAIN! [0839 EDT] - Wow, Senator Luther Strange picked up a lot of additional support since my endorsement. Now in September runoff. Strong on Wall & Crime! [1051 EDT] - Memorial service today for beautiful and incredible Heather Heyer, a truly special young woman. She will be long remembered by all! [1058 EDT] - Rather than putting pressure on the businesspeople of the Manufacturing Council & Strategy & Policy Forum, I am ending both. Thank you all! [1314 EDT] -- Source link: (bit.ly/2jBh4LU) (bit.ly/2jpEXYR) \"\n        ],\n        \"semantic_type\": \"\",\n        \"description\": \"\"\n      }\n    },\n    {\n      \"column\": \"label\",\n      \"properties\": {\n        \"dtype\": \"number\",\n        \"std\": 0,\n        \"min\": 0,\n        \"max\": 1,\n        \"num_unique_values\": 2,\n        \"samples\": [\n          0,\n          1\n        ],\n        \"semantic_type\": \"\",\n        \"description\": \"\"\n      }\n    }\n  ]\n}"
            }
          },
          "metadata": {},
          "execution_count": 28
        }
      ]
    },
    {
      "cell_type": "code",
      "source": [
        "import re\n",
        "\n",
        "def remove_digits_and_urls(text):\n",
        "    text = text.lower()\n",
        "\n",
        "    text = re.sub(r'http[s]?://\\S+', '', text)  # This will remove URLs starting with http or https\n",
        "    text = re.sub(r'www\\.\\S+', '', text)  # This will remove URLs starting with www\n",
        "\n",
        "    # Remove digits\n",
        "    text = re.sub(r'\\d+', '', text)\n",
        "\n",
        "    return text"
      ],
      "metadata": {
        "id": "1uE6QBuduuvq"
      },
      "execution_count": null,
      "outputs": []
    },
    {
      "cell_type": "code",
      "source": [
        "x = df[\"text\"]\n",
        "y = df[\"label\"]\n",
        "\n",
        "x = x.apply(remove_digits_and_urls)\n",
        "\n",
        "x.head()"
      ],
      "metadata": {
        "id": "2jaF_buxBmoU",
        "colab": {
          "base_uri": "https://localhost:8080/",
          "height": 241
        },
        "outputId": "e491bef3-b3d1-45df-f97f-65ff167ea40f"
      },
      "execution_count": null,
      "outputs": [
        {
          "output_type": "execute_result",
          "data": {
            "text/plain": [
              "16978    caracas (reuters) - key members of venezuela s...\n",
              "763      a texas republican congressman blamed female r...\n",
              "21299    we ll wait for an apology from cair and the le...\n",
              "23348    tune in to the alternate current radio network...\n",
              "12250    paris (reuters) - four adolescents were killed...\n",
              "Name: text, dtype: object"
            ],
            "text/html": [
              "<div>\n",
              "<style scoped>\n",
              "    .dataframe tbody tr th:only-of-type {\n",
              "        vertical-align: middle;\n",
              "    }\n",
              "\n",
              "    .dataframe tbody tr th {\n",
              "        vertical-align: top;\n",
              "    }\n",
              "\n",
              "    .dataframe thead th {\n",
              "        text-align: right;\n",
              "    }\n",
              "</style>\n",
              "<table border=\"1\" class=\"dataframe\">\n",
              "  <thead>\n",
              "    <tr style=\"text-align: right;\">\n",
              "      <th></th>\n",
              "      <th>text</th>\n",
              "    </tr>\n",
              "  </thead>\n",
              "  <tbody>\n",
              "    <tr>\n",
              "      <th>16978</th>\n",
              "      <td>caracas (reuters) - key members of venezuela s...</td>\n",
              "    </tr>\n",
              "    <tr>\n",
              "      <th>763</th>\n",
              "      <td>a texas republican congressman blamed female r...</td>\n",
              "    </tr>\n",
              "    <tr>\n",
              "      <th>21299</th>\n",
              "      <td>we ll wait for an apology from cair and the le...</td>\n",
              "    </tr>\n",
              "    <tr>\n",
              "      <th>23348</th>\n",
              "      <td>tune in to the alternate current radio network...</td>\n",
              "    </tr>\n",
              "    <tr>\n",
              "      <th>12250</th>\n",
              "      <td>paris (reuters) - four adolescents were killed...</td>\n",
              "    </tr>\n",
              "  </tbody>\n",
              "</table>\n",
              "</div><br><label><b>dtype:</b> object</label>"
            ]
          },
          "metadata": {},
          "execution_count": 30
        }
      ]
    },
    {
      "cell_type": "code",
      "source": [
        "vect = TfidfVectorizer()\n",
        "\n",
        "x_train, x_test, y_train, y_test = train_test_split(x,y,test_size=0.2, random_state=20)\n",
        "\n",
        "x_train = vect.fit_transform(x_train)\n",
        "x_test = vect.transform(x_test)"
      ],
      "metadata": {
        "id": "uTrHM3VZF3cy"
      },
      "execution_count": null,
      "outputs": []
    },
    {
      "cell_type": "code",
      "source": [
        "model = LogisticRegression()"
      ],
      "metadata": {
        "id": "iY1H4ukVOz7v"
      },
      "execution_count": null,
      "outputs": []
    },
    {
      "cell_type": "code",
      "source": [
        "model.fit(x_train, y_train)"
      ],
      "metadata": {
        "colab": {
          "base_uri": "https://localhost:8080/",
          "height": 75
        },
        "id": "zs8rlwUsPF4K",
        "outputId": "5fec11ad-dbbd-40b7-a20c-0c22f0461537"
      },
      "execution_count": null,
      "outputs": [
        {
          "output_type": "execute_result",
          "data": {
            "text/plain": [
              "LogisticRegression()"
            ],
            "text/html": [
              "<style>#sk-container-id-1 {color: black;}#sk-container-id-1 pre{padding: 0;}#sk-container-id-1 div.sk-toggleable {background-color: white;}#sk-container-id-1 label.sk-toggleable__label {cursor: pointer;display: block;width: 100%;margin-bottom: 0;padding: 0.3em;box-sizing: border-box;text-align: center;}#sk-container-id-1 label.sk-toggleable__label-arrow:before {content: \"▸\";float: left;margin-right: 0.25em;color: #696969;}#sk-container-id-1 label.sk-toggleable__label-arrow:hover:before {color: black;}#sk-container-id-1 div.sk-estimator:hover label.sk-toggleable__label-arrow:before {color: black;}#sk-container-id-1 div.sk-toggleable__content {max-height: 0;max-width: 0;overflow: hidden;text-align: left;background-color: #f0f8ff;}#sk-container-id-1 div.sk-toggleable__content pre {margin: 0.2em;color: black;border-radius: 0.25em;background-color: #f0f8ff;}#sk-container-id-1 input.sk-toggleable__control:checked~div.sk-toggleable__content {max-height: 200px;max-width: 100%;overflow: auto;}#sk-container-id-1 input.sk-toggleable__control:checked~label.sk-toggleable__label-arrow:before {content: \"▾\";}#sk-container-id-1 div.sk-estimator input.sk-toggleable__control:checked~label.sk-toggleable__label {background-color: #d4ebff;}#sk-container-id-1 div.sk-label input.sk-toggleable__control:checked~label.sk-toggleable__label {background-color: #d4ebff;}#sk-container-id-1 input.sk-hidden--visually {border: 0;clip: rect(1px 1px 1px 1px);clip: rect(1px, 1px, 1px, 1px);height: 1px;margin: -1px;overflow: hidden;padding: 0;position: absolute;width: 1px;}#sk-container-id-1 div.sk-estimator {font-family: monospace;background-color: #f0f8ff;border: 1px dotted black;border-radius: 0.25em;box-sizing: border-box;margin-bottom: 0.5em;}#sk-container-id-1 div.sk-estimator:hover {background-color: #d4ebff;}#sk-container-id-1 div.sk-parallel-item::after {content: \"\";width: 100%;border-bottom: 1px solid gray;flex-grow: 1;}#sk-container-id-1 div.sk-label:hover label.sk-toggleable__label {background-color: #d4ebff;}#sk-container-id-1 div.sk-serial::before {content: \"\";position: absolute;border-left: 1px solid gray;box-sizing: border-box;top: 0;bottom: 0;left: 50%;z-index: 0;}#sk-container-id-1 div.sk-serial {display: flex;flex-direction: column;align-items: center;background-color: white;padding-right: 0.2em;padding-left: 0.2em;position: relative;}#sk-container-id-1 div.sk-item {position: relative;z-index: 1;}#sk-container-id-1 div.sk-parallel {display: flex;align-items: stretch;justify-content: center;background-color: white;position: relative;}#sk-container-id-1 div.sk-item::before, #sk-container-id-1 div.sk-parallel-item::before {content: \"\";position: absolute;border-left: 1px solid gray;box-sizing: border-box;top: 0;bottom: 0;left: 50%;z-index: -1;}#sk-container-id-1 div.sk-parallel-item {display: flex;flex-direction: column;z-index: 1;position: relative;background-color: white;}#sk-container-id-1 div.sk-parallel-item:first-child::after {align-self: flex-end;width: 50%;}#sk-container-id-1 div.sk-parallel-item:last-child::after {align-self: flex-start;width: 50%;}#sk-container-id-1 div.sk-parallel-item:only-child::after {width: 0;}#sk-container-id-1 div.sk-dashed-wrapped {border: 1px dashed gray;margin: 0 0.4em 0.5em 0.4em;box-sizing: border-box;padding-bottom: 0.4em;background-color: white;}#sk-container-id-1 div.sk-label label {font-family: monospace;font-weight: bold;display: inline-block;line-height: 1.2em;}#sk-container-id-1 div.sk-label-container {text-align: center;}#sk-container-id-1 div.sk-container {/* jupyter's `normalize.less` sets `[hidden] { display: none; }` but bootstrap.min.css set `[hidden] { display: none !important; }` so we also need the `!important` here to be able to override the default hidden behavior on the sphinx rendered scikit-learn.org. See: https://github.com/scikit-learn/scikit-learn/issues/21755 */display: inline-block !important;position: relative;}#sk-container-id-1 div.sk-text-repr-fallback {display: none;}</style><div id=\"sk-container-id-1\" class=\"sk-top-container\"><div class=\"sk-text-repr-fallback\"><pre>LogisticRegression()</pre><b>In a Jupyter environment, please rerun this cell to show the HTML representation or trust the notebook. <br />On GitHub, the HTML representation is unable to render, please try loading this page with nbviewer.org.</b></div><div class=\"sk-container\" hidden><div class=\"sk-item\"><div class=\"sk-estimator sk-toggleable\"><input class=\"sk-toggleable__control sk-hidden--visually\" id=\"sk-estimator-id-1\" type=\"checkbox\" checked><label for=\"sk-estimator-id-1\" class=\"sk-toggleable__label sk-toggleable__label-arrow\">LogisticRegression</label><div class=\"sk-toggleable__content\"><pre>LogisticRegression()</pre></div></div></div></div></div>"
            ]
          },
          "metadata": {},
          "execution_count": 36
        }
      ]
    },
    {
      "cell_type": "code",
      "source": [
        "pred = model.predict(x_test)"
      ],
      "metadata": {
        "id": "8f8G__7-PSxM"
      },
      "execution_count": null,
      "outputs": []
    },
    {
      "cell_type": "code",
      "source": [
        "print(accuracy_score(pred, y_test))"
      ],
      "metadata": {
        "colab": {
          "base_uri": "https://localhost:8080/"
        },
        "id": "k_VDmTugPWjS",
        "outputId": "675792c5-cd25-45fc-cd1c-b714a600186a"
      },
      "execution_count": null,
      "outputs": [
        {
          "output_type": "stream",
          "name": "stdout",
          "text": [
            "0.9875278396436525\n"
          ]
        }
      ]
    },
    {
      "cell_type": "code",
      "source": [],
      "metadata": {
        "id": "GrdZ3b2YP5kJ"
      },
      "execution_count": null,
      "outputs": []
    }
  ],
  "metadata": {
    "colab": {
      "provenance": [],
      "gpuType": "V28",
      "authorship_tag": "ABX9TyOUiBVDzh1FkFRms5Oa0gNk",
      "include_colab_link": true
    },
    "kernelspec": {
      "display_name": "Python 3",
      "name": "python3"
    },
    "language_info": {
      "name": "python"
    },
    "accelerator": "TPU"
  },
  "nbformat": 4,
  "nbformat_minor": 0
}